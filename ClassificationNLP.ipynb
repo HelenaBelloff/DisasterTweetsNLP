{
 "cells": [
  {
   "cell_type": "markdown",
   "metadata": {},
   "source": [
    "# NLP - Classification"
   ]
  },
  {
   "cell_type": "markdown",
   "metadata": {},
   "source": [
    "For convenience all data cleaning and preparation code is pasted below"
   ]
  },
  {
   "cell_type": "markdown",
   "metadata": {},
   "source": [
    "**Cleaning**"
   ]
  },
  {
   "cell_type": "code",
   "execution_count": null,
   "metadata": {},
   "outputs": [],
   "source": [
    "# Reading in the data\n",
    "\n",
    "import pandas as pd\n",
    "train = pd.read_csv('/Users/helenabelloff/Desktop/NLP/train.csv')\n",
    "train.head()\n",
    "\n",
    "# Remove Hyperlinks\n",
    "\n",
    "def hyperlink_remove(text):\n",
    "    hyperlink_remove = train['text'].str.replace('http\\S+|http.\\S+', '', case=False)\n",
    "    return hyperlink_remove\n",
    "\n",
    "train['hyperlink_remove'] = hyperlink_remove(train['text'])\n",
    "\n",
    "# Removing punctuation\n",
    "\n",
    "import string\n",
    "string.punctuation\n",
    "\n",
    "def remove_punct(text):\n",
    "    nopunct = \"\".join([char for char in text if char not in string.punctuation])\n",
    "    return nopunct\n",
    "\n",
    "train['text_no_punct'] = train['hyperlink_remove'].apply(lambda x: remove_punct(x))\n",
    "\n",
    "# Remove digits\n",
    "\n",
    "import string\n",
    "\n",
    "train['text_no_punct'] = train['text_no_punct'].str.replace(r\"\\d\",\"\", regex= True)\n",
    "\n",
    "# Text to lower\n",
    "\n",
    "def text_lower(text):\n",
    "    text = text.lower()\n",
    "    return text\n",
    "train['text_no_punct_lower'] = train['text_no_punct'].apply(lambda x: text_lower(x))\n",
    "\n",
    "# Getting rid of accents etc.\n",
    "\n",
    "import unicodedata\n",
    "train['text_no_punct_lower'] = train['text_no_punct_lower'].str.normalize('NFKD').str.encode('ascii', errors='ignore').str.decode('utf-8')\n",
    "\n",
    "# Trying to standardize words\n",
    "\n",
    "from itertools import product\n",
    "import itertools\n",
    "\n",
    "train['text_no_punct_lower'] = train['text_no_punct_lower'].apply(lambda x:''.join(''.join(s)[:2] for _, s in itertools.groupby(x)))\n",
    "\n",
    "# Tokenizing\n",
    "\n",
    "import re\n",
    "\n",
    "def tokenize(text):\n",
    "    tokens = re.split('\\W+', text)\n",
    "    return tokens\n",
    "\n",
    "train['tokenized_text'] = train['text_no_punct_lower'].apply(lambda x: tokenize(x.lower()))\n",
    "\n",
    "stopword = {'ourselves', 'hers', 'between', 'yourself', 'but', 'again', 'there', 'about', \n",
    "            'once', 'during', 'out', 'very', 'having', 'with', 'they', 'own', 'an', 'be', \n",
    "            'some', 'for', 'do', 'its', 'yours', 'such', 'into', 'of', 'most', 'itself', \n",
    "            'other', 'off', 'is', 's', 'am', 'or', 'who', 'as', 'from', 'him', 'each', \n",
    "            'the', 'themselves', 'until', 'below', 'are', 'we', 'these', 'your', 'his', 'through', \n",
    "            'don', 'nor', 'me', 'were', 'her', 'more', 'himself', 'this', 'down', 'should', \n",
    "            'our', 'their', 'while', 'above', 'both', 'up', 'to', 'ours', 'had', 'she', 'all', \n",
    "            'no', 'when', 'at', 'any', 'before', 'them', 'same', 'and', 'been', 'have', 'in', \n",
    "            'will', 'on', 'does', 'yourselves', 'then', 'that', 'because', 'what', 'over', 'why', \n",
    "            'so', 'can', 'did', 'not', 'now', 'under', 'he', 'you', 'herself', 'has', 'just', \n",
    "            'where', 'too', 'only', 'myself', 'which', 'those', 'i', 'after', 'few', 'whom', 't', \n",
    "            'being', 'if', 'theirs', 'my', 'against', 'a', 'by', 'doing', 'it', 'how', 'further', \n",
    "            'was', 'here', 'than', 'amp', 'wa', 'am', 'pm', 'im', 'leh', 'ind', 'inciweb', 'ina'}\n",
    "\n",
    "def remove_stopwords(tokenized_list):\n",
    "    text = [word for word in tokenized_list if word not in stopword]\n",
    "    return text\n",
    "\n",
    "train['tokenized_nostopwords'] = train['tokenized_text'].apply(lambda x: remove_stopwords(x))\n",
    "\n",
    "# Need to remove stems like \"ing\" and \"ly\" - destemming\n",
    "\n",
    "import nltk\n",
    "\n",
    "port = nltk.PorterStemmer()\n",
    "\n",
    "def stemming(tokenized_text):\n",
    "    text = [port.stem(word) for word in tokenized_text]\n",
    "    return text\n",
    "\n",
    "train['tokenized_destemmed'] = train['tokenized_nostopwords'].apply(lambda x: stemming(x))\n",
    "\n",
    "# Lemmatizing\n",
    "\n",
    "import nltk\n",
    "\n",
    "lemmatizer = nltk.WordNetLemmatizer()\n",
    "\n",
    "def lemmatizing(tokenized_text):\n",
    "    text = [lemmatizer.lemmatize(word) for word in tokenized_text]\n",
    "    return text\n",
    "\n",
    "train['token_lemmatized'] = train['tokenized_nostopwords'].apply(lambda x: lemmatizing(x))\n",
    "\n",
    "# Joining Text\n",
    "\n",
    "def join_text(text):\n",
    "    text = ' '.join(text)\n",
    "    return text\n",
    "train['token_lemmatized'] = train['token_lemmatized'].apply(lambda x: join_text(x))"
   ]
  },
  {
   "cell_type": "markdown",
   "metadata": {},
   "source": [
    "**Preparing the Data**"
   ]
  },
  {
   "cell_type": "code",
   "execution_count": null,
   "metadata": {},
   "outputs": [],
   "source": [
    "# Define body\n",
    "\n",
    "x = train['token_lemmatized']\n",
    "print(x.shape)\n",
    "\n",
    "# Define labels\n",
    "\n",
    "y = train['target']\n",
    "print(y.shape)"
   ]
  },
  {
   "cell_type": "code",
   "execution_count": null,
   "metadata": {},
   "outputs": [],
   "source": [
    "# Bag of Words using Tfidf\n",
    "\n",
    "from sklearn.feature_extraction.text import CountVectorizer\n",
    "from sklearn.feature_extraction.text import TfidfVectorizer\n",
    "from sklearn.feature_extraction.text import TfidfTransformer\n",
    "from sklearn.model_selection import ShuffleSplit\n",
    "import pandas as pd\n",
    "from sklearn.model_selection import cross_val_score,train_test_split,GridSearchCV\n",
    "import numpy as np\n",
    "\n",
    "\n",
    "cv = CountVectorizer()\n",
    "\n",
    "# Checking word count\n",
    "word_count = cv.fit_transform(x)\n",
    "#print(word_count)\n",
    "\n",
    "# Ok, word count shape checks out\n",
    "#print(word_count.shape)\n",
    "\n",
    "# Now, compute IDF values\n",
    "tfidf_trans = TfidfTransformer(smooth_idf = True, use_idf = True)\n",
    "tfidf_trans.fit(word_count)\n",
    "\n",
    "# Print idf values\n",
    "idf_df = pd.DataFrame(tfidf_trans.idf_, index = cv.get_feature_names(), columns = [\"idf_weights\"])\n",
    " \n",
    "# Sort ascending\n",
    "idf_df.sort_values(by = ['idf_weights'])\n",
    "\n",
    "count_vector = cv.transform(x)\n",
    " \n",
    "# tf-idf scores\n",
    "# Computing the tf * idf  multiplication where term frequency is weighted by its IDF values\n",
    "tfidf_vector = tfidf_trans.transform(count_vector)\n",
    "\n",
    "\n",
    "feature_names = cv.get_feature_names()\n",
    "\n",
    "tfidf = TfidfVectorizer()\n",
    "\n",
    "X1 = cv.fit_transform(x)\n",
    "X = tfidf.fit_transform(x)\n",
    "print(X.shape)\n",
    "\n",
    "train_df = pd.DataFrame(columns = feature_names, data = X.toarray())\n",
    "print(train_df.shape)\n",
    "print(train_df.head(10))\n",
    "\n",
    "# Splitting the data into train and test (validation)\n",
    "\n",
    "X_train, X_test, y_train, y_test = train_test_split(X,y,stratify=y,random_state=42)"
   ]
  },
  {
   "cell_type": "code",
   "execution_count": null,
   "metadata": {},
   "outputs": [],
   "source": [
    "# Creating Final Data Frame\n",
    "\n",
    "train.reset_index(inplace=True, drop = True)\n",
    "train.drop(['target','text', 'text_no_punct', 'tokenized_text', 'hyperlink_remove', 'tokenized_nostopwords', \n",
    "            'tokenized_destemmed', 'token_lemmatized', 'text_no_punct_lower'],axis = 1, inplace = True)\n",
    "train = pd.concat([train,train_df], axis =1)\n",
    "print(train.shape)\n",
    "train.head(10)"
   ]
  },
  {
   "cell_type": "code",
   "execution_count": null,
   "metadata": {},
   "outputs": [],
   "source": [
    "train['keyword'] = train['keyword'].fillna('NA')"
   ]
  },
  {
   "cell_type": "markdown",
   "metadata": {},
   "source": [
    "# Classification"
   ]
  },
  {
   "cell_type": "markdown",
   "metadata": {},
   "source": [
    "**Random Forest**"
   ]
  },
  {
   "cell_type": "code",
   "execution_count": null,
   "metadata": {},
   "outputs": [],
   "source": [
    "from sklearn.ensemble import RandomForestClassifier\n",
    "\n",
    "rf = RandomForestClassifier(random_state=42)\n",
    "rf.fit(X_train,y_train)"
   ]
  },
  {
   "cell_type": "code",
   "execution_count": null,
   "metadata": {},
   "outputs": [],
   "source": [
    "from sklearn.ensemble import RandomForestClassifier\n",
    "\n",
    "rf = RandomForestClassifier(random_state=42)\n",
    "rf.fit(X_train,y_train)\n",
    "print(\"Cross Val Score: \",cross_val_score(rf,X_train,y_train,cv=10).mean())\n",
    "print(\"Train Score: \", round(rf.score(X_train,y_train),4))\n",
    "print(\"Test Score: \", round(rf.score(X_test,y_test),4))\n",
    "print(f'Model Accuracy: {rf.score(X, y)}')"
   ]
  },
  {
   "cell_type": "markdown",
   "metadata": {},
   "source": [
    "**Next Attempt**"
   ]
  },
  {
   "cell_type": "code",
   "execution_count": null,
   "metadata": {},
   "outputs": [],
   "source": [
    "from sklearn.ensemble import RandomForestClassifier\n",
    "\n",
    "# Create the model with 100 trees\n",
    "model = RandomForestClassifier(n_estimators=100, \n",
    "                               bootstrap = True,\n",
    "                               max_features = 'sqrt')\n",
    "# Fit on training data\n",
    "model.fit(X_train,y_train)"
   ]
  },
  {
   "cell_type": "code",
   "execution_count": null,
   "metadata": {},
   "outputs": [],
   "source": [
    "print(\"Cross Val Score: \",cross_val_score(model,X_train,y_train,cv=10).mean())\n",
    "print(\"Train Score: \", round(model.score(X_train,y_train),4))\n",
    "print(\"Test Score: \", round(model.score(X_test,y_test),4))\n",
    "print(f'Model Accuracy: {model.score(X, y)}')"
   ]
  },
  {
   "cell_type": "markdown",
   "metadata": {},
   "source": [
    "**Next - Need to tune the parameters**"
   ]
  },
  {
   "cell_type": "code",
   "execution_count": null,
   "metadata": {},
   "outputs": [],
   "source": [
    "from sklearn.ensemble import RandomForestClassifier\n",
    "\n",
    "# Create the model with 700 trees\n",
    "# n_jobs = -1 means we're specifying all processors on your CPUs be used for this purpose (this makes it run the fastest)\n",
    "\n",
    "model = RandomForestClassifier(n_estimators=700, \n",
    "                               bootstrap = True,\n",
    "                               min_samples_split = 4, \n",
    "                               max_features = 'sqrt', \n",
    "                               n_jobs = -1, \n",
    "                               min_samples_leaf = 1, \n",
    "                               criterion = 'gini')\n",
    "# Fit on training data\n",
    "model.fit(X_train,y_train)"
   ]
  },
  {
   "cell_type": "code",
   "execution_count": null,
   "metadata": {},
   "outputs": [],
   "source": [
    "print(\"Cross Val Score: \", cross_val_score(model,X_train,y_train,cv=5).mean())\n",
    "print(\"Train Score: \", round(model.score(X_train,y_train),4))\n",
    "print(\"Test Score: \", round(model.score(X_test,y_test),4))\n",
    "print(f'Model Accuracy: {model.score(X, y)}')"
   ]
  },
  {
   "cell_type": "code",
   "execution_count": null,
   "metadata": {},
   "outputs": [],
   "source": [
    "from sklearn.metrics import f1_score\n",
    "pred = model.predict(X_train)\n",
    "f_score = f1_score(y_train, pred, average='weighted')\n",
    "print(\"F1 Score: \", f_score)"
   ]
  },
  {
   "cell_type": "code",
   "execution_count": null,
   "metadata": {},
   "outputs": [],
   "source": [
    "from sklearn.metrics import classification_report\n",
    "print(classification_report(y_train, pred))"
   ]
  },
  {
   "cell_type": "code",
   "execution_count": null,
   "metadata": {},
   "outputs": [],
   "source": [
    "from sklearn.metrics import f1_score\n",
    "pred = model.predict(X_test)\n",
    "f_score = f1_score(y_test, pred)\n",
    "print(\"F1 Score: \", f_score)"
   ]
  },
  {
   "cell_type": "code",
   "execution_count": null,
   "metadata": {},
   "outputs": [],
   "source": [
    "# Confusion Matrices to see distribution of results\n",
    "\n",
    "from sklearn.metrics import confusion_matrix\n",
    "\n",
    "pred = model.predict(X_train)\n",
    "conf_mat = confusion_matrix(y_train, pred)\n",
    "print(conf_mat)"
   ]
  },
  {
   "cell_type": "code",
   "execution_count": null,
   "metadata": {},
   "outputs": [],
   "source": [
    "from sklearn.metrics import confusion_matrix\n",
    "pred = model.predict(X_test)\n",
    "conf_mat = confusion_matrix(y_test, pred)\n",
    "print(conf_mat)"
   ]
  },
  {
   "cell_type": "code",
   "execution_count": null,
   "metadata": {},
   "outputs": [],
   "source": [
    "# Full classification report\n",
    "\n",
    "from sklearn.metrics import classification_report\n",
    "print(classification_report(y_test, pred))"
   ]
  },
  {
   "cell_type": "code",
   "execution_count": null,
   "metadata": {},
   "outputs": [],
   "source": [
    "# Feature Importance\n",
    "\n",
    "import pandas as pd\n",
    "feature_imp = pd.Series(model.feature_importances_, index = feature_names).sort_values(ascending = True)\n",
    "feature_imp"
   ]
  },
  {
   "cell_type": "code",
   "execution_count": null,
   "metadata": {},
   "outputs": [],
   "source": [
    "# Actual class predictions\n",
    "rf_predictions = model.predict(X_test)\n",
    "# Probabilities for each class\n",
    "rf_probs = model.predict_proba(X_test)[:, 1]"
   ]
  },
  {
   "cell_type": "code",
   "execution_count": null,
   "metadata": {},
   "outputs": [],
   "source": [
    "# ROC\n",
    "\n",
    "from sklearn.metrics import roc_auc_score\n",
    "\n",
    "# Calculate roc auc\n",
    "roc_auc = roc_auc_score(y_test, rf_probs)\n",
    "print(roc_auc)"
   ]
  },
  {
   "cell_type": "code",
   "execution_count": null,
   "metadata": {},
   "outputs": [],
   "source": [
    "# ROC CODE\n",
    "import matplotlib.pyplot as plt\n",
    "from sklearn import metrics\n",
    "\n",
    "probs = model.fit(X_train, y_train).predict_proba(X_test)"
   ]
  },
  {
   "cell_type": "code",
   "execution_count": null,
   "metadata": {},
   "outputs": [],
   "source": [
    "from sklearn import metrics\n",
    "from sklearn.metrics import roc_auc_score\n",
    "from sklearn.metrics import roc_curve, auc\n",
    "\n",
    "# Compute ROC curve and area the curve\n",
    "fpr, tpr, thresholds = roc_curve(y_test, probs[:, 1])\n",
    "RF_roc_auc = auc(fpr, tpr)\n",
    "print(\"Area under the ROC curve for Random Forest : %f\" % RF_roc_auc)"
   ]
  },
  {
   "cell_type": "code",
   "execution_count": null,
   "metadata": {},
   "outputs": [],
   "source": [
    "# Plot ROC\n",
    "\n",
    "import matplotlib.pyplot as pl\n",
    "\n",
    "# Plot it\n",
    "pl.clf()\n",
    "pl.plot(fpr, tpr, label='ROC curve (area = %0.2f)' % RF_roc_auc)\n",
    "pl.plot([0, 1], [0, 1], 'k--')\n",
    "pl.xlim([0.0, 1.0])\n",
    "pl.ylim([0.0, 1.0])\n",
    "pl.xlabel('False Positive Rate')\n",
    "pl.ylabel('True Positive Rate')\n",
    "pl.title('Random Forest ROC')\n",
    "pl.legend(loc=\"lower right\")\n",
    "pl.show()"
   ]
  },
  {
   "cell_type": "markdown",
   "metadata": {},
   "source": [
    "** ExtraTrees **"
   ]
  },
  {
   "cell_type": "code",
   "execution_count": null,
   "metadata": {},
   "outputs": [],
   "source": [
    "# ExtraTreesClassifier\n",
    "\n",
    "from sklearn.ensemble import ExtraTreesClassifier\n",
    "\n",
    "ExtraTreesModel = ExtraTreesClassifier(n_estimators = 700, \n",
    "                                       min_samples_split=2, \n",
    "                                       n_jobs = -1, max_features = 'sqrt')\n",
    "ExtraTreesModel.fit(X_train,y_train)"
   ]
  },
  {
   "cell_type": "code",
   "execution_count": null,
   "metadata": {},
   "outputs": [],
   "source": [
    "print(\"Train Score: \", round(ExtraTreesModel.score(X_train,y_train),4))\n",
    "print(\"Test Score: \", round(ExtraTreesModel.score(X_test,y_test),4))"
   ]
  },
  {
   "cell_type": "code",
   "execution_count": null,
   "metadata": {},
   "outputs": [],
   "source": [
    "# Actual class predictions\n",
    "rf_predictions = ExtraTreesModel.predict(X_test)\n",
    "# Probabilities for each class\n",
    "rf_probs = ExtraTreesModel.predict_proba(X_test)[:, 1]"
   ]
  },
  {
   "cell_type": "code",
   "execution_count": null,
   "metadata": {},
   "outputs": [],
   "source": [
    "from sklearn.metrics import roc_auc_score\n",
    "\n",
    "# Calculate roc auc\n",
    "roc_auc = roc_auc_score(y_test, rf_probs)\n",
    "print(roc_auc)"
   ]
  },
  {
   "cell_type": "markdown",
   "metadata": {},
   "source": [
    "** AdaBoost **"
   ]
  },
  {
   "cell_type": "code",
   "execution_count": null,
   "metadata": {},
   "outputs": [],
   "source": [
    "from sklearn.ensemble import AdaBoostClassifier\n",
    "from sklearn.tree import DecisionTreeClassifier\n",
    "import pandas as pd\n",
    "import numpy as np\n",
    "from sklearn.model_selection import train_test_split\n",
    "from sklearn.metrics import confusion_matrix\n",
    "from sklearn.preprocessing import LabelEncoder\n",
    "\n",
    "adaModel = AdaBoostClassifier(n_estimators = 1000, learning_rate = 1, random_state = 1)\n",
    "adaModel.fit(X_train,y_train)"
   ]
  },
  {
   "cell_type": "code",
   "execution_count": null,
   "metadata": {},
   "outputs": [],
   "source": [
    "print(\"Cross Val Score: \", cross_val_score(adaModel,X_train,y_train,cv=10).mean())\n",
    "print(\"Train Score: \", round(adaModel.score(X_train,y_train),4))\n",
    "print(\"Test Score: \", round(adaModel.score(X_test,y_test),4))\n",
    "print(f'Model Accuracy: {adaModel.score(X, y)}')"
   ]
  },
  {
   "cell_type": "code",
   "execution_count": null,
   "metadata": {},
   "outputs": [],
   "source": [
    "y_pred_ada = adaModel.predict(X_test)"
   ]
  },
  {
   "cell_type": "code",
   "execution_count": null,
   "metadata": {},
   "outputs": [],
   "source": [
    "from sklearn import metrics\n",
    "\n",
    "# Model Accuracy: how often is the classifier correct?\n",
    "print(\"Accuracy:\",metrics.accuracy_score(y_test, y_pred_ada))"
   ]
  },
  {
   "cell_type": "code",
   "execution_count": null,
   "metadata": {},
   "outputs": [],
   "source": [
    "# Confusion Matrices\n",
    "from sklearn.metrics import confusion_matrix\n",
    "\n",
    "pred = adaModel.predict(X_train)\n",
    "conf_mat = confusion_matrix(y_train, pred)\n",
    "print(conf_mat)"
   ]
  },
  {
   "cell_type": "code",
   "execution_count": null,
   "metadata": {},
   "outputs": [],
   "source": [
    "# Confusion Matrices\n",
    "from sklearn.metrics import confusion_matrix\n",
    "\n",
    "pred = adaModel.predict(X_test)\n",
    "conf_mat = confusion_matrix(y_test, pred)\n",
    "print(conf_mat)"
   ]
  },
  {
   "cell_type": "code",
   "execution_count": null,
   "metadata": {},
   "outputs": [],
   "source": [
    "from sklearn.metrics import classification_report\n",
    "print(classification_report(y_test, pred))"
   ]
  },
  {
   "cell_type": "code",
   "execution_count": null,
   "metadata": {},
   "outputs": [],
   "source": [
    "# ROC CODE\n",
    "import matplotlib.pyplot as plt\n",
    "from sklearn import metrics\n",
    "\n",
    "probs = adaModel.fit(X_train, y_train).predict_proba(X_test)"
   ]
  },
  {
   "cell_type": "code",
   "execution_count": null,
   "metadata": {},
   "outputs": [],
   "source": [
    "from sklearn import metrics\n",
    "from sklearn.metrics import roc_auc_score\n",
    "from sklearn.metrics import roc_curve, auc\n",
    "\n",
    "# Compute ROC curve and area the curve\n",
    "fpr, tpr, thresholds = roc_curve(y_test, probs[:, 1])\n",
    "Ada_roc_auc = auc(fpr, tpr)\n",
    "print(\"Area under the ROC curve for AdaBoost : %f\" % Ada_roc_auc)"
   ]
  },
  {
   "cell_type": "code",
   "execution_count": null,
   "metadata": {},
   "outputs": [],
   "source": [
    "import matplotlib.pyplot as pl\n",
    "\n",
    "# Plot it\n",
    "pl.clf()\n",
    "pl.plot(fpr, tpr, label='ROC curve (area = %0.2f)' % Ada_roc_auc)\n",
    "pl.plot([0, 1], [0, 1], 'k--')\n",
    "pl.xlim([0.0, 1.0])\n",
    "pl.ylim([0.0, 1.0])\n",
    "pl.xlabel('False Positive Rate')\n",
    "pl.ylabel('True Positive Rate')\n",
    "pl.title('AdaBoost ROC')\n",
    "pl.legend(loc=\"lower right\")\n",
    "pl.show()"
   ]
  },
  {
   "cell_type": "code",
   "execution_count": null,
   "metadata": {},
   "outputs": [],
   "source": [
    "import pandas as pd\n",
    "feature_imp = pd.Series(adaModel.feature_importances_, index = feature_names).sort_values(ascending = False)\n",
    "feature_imp"
   ]
  },
  {
   "cell_type": "markdown",
   "metadata": {},
   "source": [
    "** AdaBoost with SVC as base estimator **\n",
    "\n",
    "You will see this is very bad for accuracy..."
   ]
  },
  {
   "cell_type": "code",
   "execution_count": null,
   "metadata": {},
   "outputs": [],
   "source": [
    "from sklearn.ensemble import AdaBoostClassifier\n",
    "from sklearn.svm import SVC\n",
    "from sklearn import metrics\n",
    "\n",
    "svc = SVC(probability = True, kernel = 'linear')\n",
    "\n",
    "AdaBoostModelSVC = AdaBoostClassifier(n_estimators = 100, base_estimator = svc, learning_rate = 1)\n",
    "\n",
    "AdaBoostModelSVC.fit(X_train,y_train)"
   ]
  },
  {
   "cell_type": "code",
   "execution_count": null,
   "metadata": {},
   "outputs": [],
   "source": [
    "print(\"Train Score: \", round(AdaBoostModelSVC.score(X_train,y_train),4))\n",
    "print(\"Test Score: \", round(AdaBoostModelSVC.score(X_test,y_test),4))\n",
    "print(f'Model Accuracy: {AdaBoostModelSVC.score(X, y)}')"
   ]
  },
  {
   "cell_type": "markdown",
   "metadata": {},
   "source": [
    "**Support Vector Machine**"
   ]
  },
  {
   "cell_type": "code",
   "execution_count": null,
   "metadata": {},
   "outputs": [],
   "source": [
    "from sklearn.svm import SVC\n",
    "\n",
    "SVCmodel = SVC(random_state=1, kernel='linear')\n",
    "\n",
    "SVCmodel.fit(X_train,y_train)"
   ]
  },
  {
   "cell_type": "code",
   "execution_count": null,
   "metadata": {},
   "outputs": [],
   "source": [
    "from sklearn import model_selection, naive_bayes, svm\n",
    "from sklearn.metrics import accuracy_score\n",
    "\n",
    "SVM = svm.SVC(C=1.0, kernel='linear', degree=3, gamma='auto', probability=True)\n",
    "SVM.fit(X_train,y_train)\n",
    "\n",
    "predictions_SVM = SVM.predict(X_test)\n",
    "\n",
    "print(\"SVM Accuracy Score -> \", accuracy_score(predictions_SVM, y_test)*100, \"%\")"
   ]
  },
  {
   "cell_type": "code",
   "execution_count": null,
   "metadata": {},
   "outputs": [],
   "source": [
    "print(\"Cross Val Score: \", cross_val_score(SVCmodel,X_train,y_train,cv=10).mean())\n",
    "print(\"Train Score: \", round(SVCmodel.score(X_train,y_train),4))\n",
    "print(\"Test Score: \", round(SVCmodel.score(X_test,y_test),4))"
   ]
  },
  {
   "cell_type": "code",
   "execution_count": null,
   "metadata": {},
   "outputs": [],
   "source": [
    "y_pred = SVCmodel.predict(X_test)"
   ]
  },
  {
   "cell_type": "code",
   "execution_count": null,
   "metadata": {},
   "outputs": [],
   "source": [
    "from sklearn import metrics\n",
    "\n",
    "print(\"Accuracy:\",metrics.accuracy_score(y_test, y_pred))"
   ]
  },
  {
   "cell_type": "code",
   "execution_count": null,
   "metadata": {},
   "outputs": [],
   "source": [
    "# Confusion Matrices\n",
    "from sklearn.metrics import confusion_matrix\n",
    "\n",
    "pred = SVM.predict(X_train)\n",
    "conf_mat = confusion_matrix(y_train, pred)\n",
    "print(conf_mat)"
   ]
  },
  {
   "cell_type": "code",
   "execution_count": null,
   "metadata": {},
   "outputs": [],
   "source": [
    "# Confusion Matrices\n",
    "from sklearn.metrics import confusion_matrix\n",
    "\n",
    "pred = SVM.predict(X_test)\n",
    "conf_mat = confusion_matrix(y_test, pred)\n",
    "print(conf_mat)"
   ]
  },
  {
   "cell_type": "code",
   "execution_count": null,
   "metadata": {},
   "outputs": [],
   "source": [
    "from sklearn.metrics import classification_report\n",
    "print(classification_report(y_test, pred))"
   ]
  },
  {
   "cell_type": "code",
   "execution_count": null,
   "metadata": {},
   "outputs": [],
   "source": [
    "# ROC CODE\n",
    "import matplotlib.pyplot as plt\n",
    "from sklearn import metrics\n",
    "\n",
    "probs = SVM.fit(X_train, y_train).predict_proba(X_test)"
   ]
  },
  {
   "cell_type": "code",
   "execution_count": null,
   "metadata": {},
   "outputs": [],
   "source": [
    "from sklearn import metrics\n",
    "from sklearn.metrics import roc_auc_score\n",
    "from sklearn.metrics import roc_curve, auc\n",
    "\n",
    "# Compute ROC curve and area the curve\n",
    "fpr, tpr, thresholds = roc_curve(y_test, probs[:, 1])\n",
    "SVM_roc_auc = auc(fpr, tpr)\n",
    "print(\"Area under the ROC curve for SVM : %f\" % SVM_roc_auc)"
   ]
  },
  {
   "cell_type": "code",
   "execution_count": null,
   "metadata": {},
   "outputs": [],
   "source": [
    "import matplotlib.pyplot as pl\n",
    "\n",
    "# Plot ROC curve\n",
    "pl.clf()\n",
    "pl.plot(fpr, tpr, label='ROC curve (area = %0.2f)' % SVM_roc_auc)\n",
    "pl.plot([0, 1], [0, 1], 'k--')\n",
    "pl.xlim([0.0, 1.0])\n",
    "pl.ylim([0.0, 1.0])\n",
    "pl.xlabel('False Positive Rate')\n",
    "pl.ylabel('True Positive Rate')\n",
    "pl.title('SVM ROC')\n",
    "pl.legend(loc=\"lower right\")\n",
    "pl.show()"
   ]
  },
  {
   "cell_type": "markdown",
   "metadata": {},
   "source": [
    "** SVM with Sigmoid Kernel **\n",
    "\n",
    "You will see that the sigmoid kernel is not appopriate for this data"
   ]
  },
  {
   "cell_type": "code",
   "execution_count": null,
   "metadata": {},
   "outputs": [],
   "source": [
    "from sklearn import model_selection, naive_bayes, svm\n",
    "from sklearn.metrics import accuracy_score\n",
    "\n",
    "SVM = svm.SVC(C= 0.5, kernel='sigmoid', degree=3, gamma='auto', probability=True)\n",
    "SVM.fit(X_train,y_train)\n",
    "\n",
    "predictions_SVM = SVM.predict(X_test)\n",
    "\n",
    "print(\"SVM Accuracy Score -> \", accuracy_score(predictions_SVM, y_test)*100, \"%\")"
   ]
  },
  {
   "cell_type": "code",
   "execution_count": null,
   "metadata": {},
   "outputs": [],
   "source": [
    "print(\"Train Score: \", round(SVM.score(X_train,y_train),4))\n",
    "print(\"Test Score: \", round(SVM.score(X_test,y_test),4))"
   ]
  }
 ],
 "metadata": {
  "kernelspec": {
   "display_name": "Python 3",
   "language": "python",
   "name": "python3"
  },
  "language_info": {
   "codemirror_mode": {
    "name": "ipython",
    "version": 3
   },
   "file_extension": ".py",
   "mimetype": "text/x-python",
   "name": "python",
   "nbconvert_exporter": "python",
   "pygments_lexer": "ipython3",
   "version": "3.6.5"
  }
 },
 "nbformat": 4,
 "nbformat_minor": 2
}
