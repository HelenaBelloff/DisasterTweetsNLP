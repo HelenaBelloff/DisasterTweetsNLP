{
 "cells": [
  {
   "cell_type": "markdown",
   "metadata": {},
   "source": [
    "# NLP - Cleaning the dataset"
   ]
  },
  {
   "cell_type": "code",
   "execution_count": null,
   "metadata": {},
   "outputs": [],
   "source": [
    "# Reading in the data\n",
    "\n",
    "import pandas as pd\n",
    "train = pd.read_csv('/Users/helenabelloff/Desktop/NLP/train.csv')\n",
    "train.head()"
   ]
  },
  {
   "cell_type": "code",
   "execution_count": null,
   "metadata": {},
   "outputs": [],
   "source": [
    "# Now we can remove hyperlinks using some regex code \n",
    "# NOTE: we can include some hyperlinks after our initial RF run to see if accuracy improves\n",
    "# Ex: www.Bloomberg/blah blah, www.bbc/blah because those are probably links to REAL disaster stories\n",
    "\n",
    "# But let's remove them all for now and see what happens\n",
    "# ALSO: Let's remove them before tokenization\n",
    "\n",
    "def hyperlink_remove(text):\n",
    "    hyperlink_remove = train['text'].str.replace('http\\S+|http.\\S+', '', case=False)\n",
    "    return hyperlink_remove\n",
    "\n",
    "train['hyperlink_remove'] = hyperlink_remove(train['text'])"
   ]
  },
  {
   "cell_type": "code",
   "execution_count": null,
   "metadata": {},
   "outputs": [],
   "source": [
    "# Removing punctuation\n",
    "\n",
    "import string\n",
    "string.punctuation"
   ]
  },
  {
   "cell_type": "code",
   "execution_count": null,
   "metadata": {},
   "outputs": [],
   "source": [
    "def remove_punct(text):\n",
    "    nopunct = \"\".join([char for char in text if char not in string.punctuation])\n",
    "    return nopunct\n",
    "\n",
    "train['text_no_punct'] = train['hyperlink_remove'].apply(lambda x: remove_punct(x))"
   ]
  },
  {
   "cell_type": "code",
   "execution_count": null,
   "metadata": {},
   "outputs": [],
   "source": [
    "# Remove digits\n",
    "\n",
    "import string\n",
    "\n",
    "train['text_no_punct'] = train['text_no_punct'].str.replace(r\"\\d\",\"\", regex= True)"
   ]
  },
  {
   "cell_type": "code",
   "execution_count": null,
   "metadata": {},
   "outputs": [],
   "source": [
    "# Text to lower\n",
    "\n",
    "def text_lower(text):\n",
    "    text = text.lower()\n",
    "    return text\n",
    "train['text_no_punct_lower'] = train['text_no_punct'].apply(lambda x: text_lower(x))"
   ]
  },
  {
   "cell_type": "code",
   "execution_count": null,
   "metadata": {},
   "outputs": [],
   "source": [
    "# Getting rid of accents etc.\n",
    "\n",
    "import unicodedata\n",
    "train['text_no_punct_lower'] = train['text_no_punct_lower'].str.normalize('NFKD').str.encode('ascii', errors='ignore').str.decode('utf-8')"
   ]
  },
  {
   "cell_type": "code",
   "execution_count": null,
   "metadata": {},
   "outputs": [],
   "source": [
    "# Trying to standardize words\n",
    "from itertools import product\n",
    "import itertools\n",
    "\n",
    "train['text_no_punct_lower'] = train['text_no_punct_lower'].apply(lambda x:''.join(''.join(s)[:2] for _, s in itertools.groupby(x)))"
   ]
  },
  {
   "cell_type": "code",
   "execution_count": null,
   "metadata": {},
   "outputs": [],
   "source": [
    "# Tokenizing\n",
    "\n",
    "import re\n",
    "\n",
    "def tokenize(text):\n",
    "    tokens = re.split('\\W+', text)\n",
    "    return tokens\n",
    "\n",
    "train['tokenized_text'] = train['text_no_punct_lower'].apply(lambda x: tokenize(x.lower()))"
   ]
  },
  {
   "cell_type": "code",
   "execution_count": null,
   "metadata": {},
   "outputs": [],
   "source": [
    "# Remove stopwords like \"the\", \"for\", \"are\" \n",
    "# These don't really do anything for us\n",
    "# This is a list that I looked up and then I added some stuff after I realized that things like \"am\" and \"pm\" \n",
    "# wouldn't add anything to the classification analysis\n",
    "\n",
    "stopword = {'ourselves', 'hers', 'between', 'yourself', 'but', 'again', 'there', 'about', \n",
    "            'once', 'during', 'out', 'very', 'having', 'with', 'they', 'own', 'an', 'be', \n",
    "            'some', 'for', 'do', 'its', 'yours', 'such', 'into', 'of', 'most', 'itself', \n",
    "            'other', 'off', 'is', 's', 'am', 'or', 'who', 'as', 'from', 'him', 'each', \n",
    "            'the', 'themselves', 'until', 'below', 'are', 'we', 'these', 'your', 'his', 'through', \n",
    "            'don', 'nor', 'me', 'were', 'her', 'more', 'himself', 'this', 'down', 'should', \n",
    "            'our', 'their', 'while', 'above', 'both', 'up', 'to', 'ours', 'had', 'she', 'all', \n",
    "            'no', 'when', 'at', 'any', 'before', 'them', 'same', 'and', 'been', 'have', 'in', \n",
    "            'will', 'on', 'does', 'yourselves', 'then', 'that', 'because', 'what', 'over', 'why', \n",
    "            'so', 'can', 'did', 'not', 'now', 'under', 'he', 'you', 'herself', 'has', 'just', \n",
    "            'where', 'too', 'only', 'myself', 'which', 'those', 'i', 'after', 'few', 'whom', 't', \n",
    "            'being', 'if', 'theirs', 'my', 'against', 'a', 'by', 'doing', 'it', 'how', 'further', \n",
    "            'was', 'here', 'than', 'amp', 'wa', 'am', 'pm', 'im', 'leh', 'ind', 'inciweb', 'ina'}\n",
    "\n",
    "# I've opted to not remove the word \"near\" because near is a common word found in real disaster tweets \n",
    "# (as indicated by my wordclouds)"
   ]
  },
  {
   "cell_type": "code",
   "execution_count": null,
   "metadata": {},
   "outputs": [],
   "source": [
    "def remove_stopwords(tokenized_list):\n",
    "    text = [word for word in tokenized_list if word not in stopword]\n",
    "    return text\n",
    "\n",
    "train['tokenized_nostopwords'] = train['tokenized_text'].apply(lambda x: remove_stopwords(x))"
   ]
  },
  {
   "cell_type": "code",
   "execution_count": null,
   "metadata": {},
   "outputs": [],
   "source": [
    "# Need to remove stems like \"ing\" and \"ly\" - destemming\n",
    "\n",
    "import nltk\n",
    "\n",
    "port = nltk.PorterStemmer()\n",
    "\n",
    "def stemming(tokenized_text):\n",
    "    text = [port.stem(word) for word in tokenized_text]\n",
    "    return text\n",
    "\n",
    "train['tokenized_destemmed'] = train['tokenized_nostopwords'].apply(lambda x: stemming(x))"
   ]
  },
  {
   "cell_type": "code",
   "execution_count": null,
   "metadata": {},
   "outputs": [],
   "source": [
    "# Lemmatizing basically does the same thing as stemming, but it takes an informed analysis with \n",
    "# the context of the word in mind\n",
    "\n",
    "# Stemming will just chop off the ending of the word with no context\n",
    "# Lemmatizing will analyze the root word: Ex: \"Entitled\", \"Entitling\" --> \"Entitle\"\n",
    "\n",
    "# I will ultimately use the lemmatizer\n",
    "\n",
    "import nltk\n",
    "\n",
    "lemmatizer = nltk.WordNetLemmatizer()\n",
    "\n",
    "def lemmatizing(tokenized_text):\n",
    "    text = [lemmatizer.lemmatize(word) for word in tokenized_text]\n",
    "    return text\n",
    "\n",
    "train['token_lemmatized'] = train['tokenized_nostopwords'].apply(lambda x: lemmatizing(x))"
   ]
  },
  {
   "cell_type": "code",
   "execution_count": null,
   "metadata": {},
   "outputs": [],
   "source": [
    "def join_text(text):\n",
    "    text = ' '.join(text)\n",
    "    return text\n",
    "train['token_lemmatized'] = train['token_lemmatized'].apply(lambda x: join_text(x))"
   ]
  }
 ],
 "metadata": {
  "kernelspec": {
   "display_name": "Python 3",
   "language": "python",
   "name": "python3"
  },
  "language_info": {
   "codemirror_mode": {
    "name": "ipython",
    "version": 3
   },
   "file_extension": ".py",
   "mimetype": "text/x-python",
   "name": "python",
   "nbconvert_exporter": "python",
   "pygments_lexer": "ipython3",
   "version": "3.6.5"
  }
 },
 "nbformat": 4,
 "nbformat_minor": 2
}
